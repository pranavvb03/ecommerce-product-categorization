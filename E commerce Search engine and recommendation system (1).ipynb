{
 "cells": [
  {
   "cell_type": "markdown",
   "metadata": {},
   "source": [
    "# PROBLEM STATEMENT"
   ]
  },
  {
   "cell_type": "markdown",
   "metadata": {},
   "source": [
    "## This project is aimed to build a search and recommender system that is able to search and recommend products based on an ecommerce dataset. The main dataset regarding to ecommerce products has more than 6000 products. The system search product description based on a search query text and gives the results. The aim of the project is to use deep learning techniques for information retrieval rather than the traditional word comparison approach to get better results. Also, it focuses on recommender systems that are everywhere and used to create a personalized recommendation to increase the user experience."
   ]
  },
  {
   "cell_type": "markdown",
   "metadata": {},
   "source": [
    "### IMPORTING LIBRARIES"
   ]
  },
  {
   "cell_type": "code",
   "execution_count": 2,
   "metadata": {},
   "outputs": [
    {
     "name": "stderr",
     "output_type": "stream",
     "text": [
      "[nltk_data] Downloading package stopwords to\n",
      "[nltk_data]     C:\\Users\\Admin\\AppData\\Roaming\\nltk_data...\n",
      "[nltk_data]   Unzipping corpora\\stopwords.zip.\n"
     ]
    },
    {
     "data": {
      "text/plain": [
       "True"
      ]
     },
     "execution_count": 2,
     "metadata": {},
     "output_type": "execute_result"
    }
   ],
   "source": [
    "nltk.download('stopwords')"
   ]
  },
  {
   "cell_type": "code",
   "execution_count": 3,
   "metadata": {},
   "outputs": [],
   "source": [
    "#Data Manipulation\n",
    "import pandas as pd\n",
    "import numpy as np\n",
    "\n",
    "# Visualization \n",
    "import matplotlib.pyplot as plt\n",
    "import seaborn as sns\n",
    "\n",
    "#NLP for text pre-processing\n",
    "import nltk\n",
    "import scipy\n",
    "import re\n",
    "from scipy import spatial\n",
    "#from nltk.tokenize.toktok import ToktokTokenizer\n",
    "from nltk.corpus import stopwords\n",
    "from nltk.tokenize import sent_tokenize, word_tokenize\n",
    "from nltk.stem import PorterStemmer\n",
    "#tokenizer = ToktokTokenizer()\n",
    "stopword_list = nltk.corpus.stopwords.words('english') \n",
    "\n",
    "# other libraries\n",
    "import gensim\n",
    "from gensim.models import Word2Vec\n",
    "import itertools\n",
    "from sklearn.feature_extraction.text import TfidfVectorizer\n",
    "from sklearn.decomposition import PCA\n",
    "\n",
    "# Import linear_kernel\n",
    "from sklearn.metrics.pairwise import linear_kernel\n",
    "\n",
    "# remove warnings\n",
    "import warnings \n",
    "warnings.filterwarnings(action = 'ignore') \n"
   ]
  },
  {
   "cell_type": "code",
   "execution_count": 4,
   "metadata": {},
   "outputs": [],
   "source": [
    "from nltk.tokenize import word_tokenize"
   ]
  },
  {
   "cell_type": "markdown",
   "metadata": {},
   "source": [
    "## Importing data"
   ]
  },
  {
   "cell_type": "code",
   "execution_count": 7,
   "metadata": {},
   "outputs": [],
   "source": [
    "#Loading the dataset\n",
    "data=pd.read_csv(\"Downloads/flipkart_com-ecommerce_sample.csv\")"
   ]
  },
  {
   "cell_type": "markdown",
   "metadata": {},
   "source": [
    "## Data Exploration"
   ]
  },
  {
   "cell_type": "code",
   "execution_count": 8,
   "metadata": {},
   "outputs": [
    {
     "data": {
      "text/plain": [
       "\"FabHomeDecor Fabric Double Sofa Bed (Finish Color - Leatherette Black Mechanism Type - Pull Out) Price: Rs. 22,646 • Fine deep seating experience • Save Space with the all new click clack Sofa Bed • Easy to fold and vice versa with simple click clack mechanism • Chrome legs with mango wood frame for long term durability • Double cushioned Sofa Bed to provide you with extra softness to make a fine seating experience • A double bed that can easily sleep two,Specifications of FabHomeDecor Fabric Double Sofa Bed (Finish Color - Leatherette Black Mechanism Type - Pull Out) Installation & Demo Installation & Demo Details Installation and demo for this product is done free of cost as part of this purchase. Our service partner will visit your location within 72 business hours from the delivery of the product. In The Box 1 Sofa Bed General Brand FabHomeDecor Mattress Included No Delivery Condition Knock Down Storage Included No Mechanism Type Pull Out Type Sofa Bed Style Contemporary & Modern Filling Material Microfiber Seating Capacity 3 Seater Upholstery Type NA Upholstery Included No Bed Size Double Shape Square Suitable For Living Room Model Number FHD112 Care Instructions Avoid outdoor use and exposure to water or prolonged moisture, Avoid exposure to direct heat or sunlight as this can cause the sofa colour to fade, Keep sharp objects away from your sofa, A little tear on the fabric cover may be hard to repair, Vacuum your sofas periodically with a soft bristled bru...View More Avoid outdoor use and exposure to water or prolonged moisture, Avoid exposure to direct heat or sunlight as this can cause the sofa colour to fade, Keep sharp objects away from your sofa, A little tear on the fabric cover may be hard to repair, Vacuum your sofas periodically with a soft bristled brush attachment or lightly brush them to keep general dirt and dust off the sofa and prevent any embedding between the fibres, Try to avoid food and drink spillage of any kind, If spills occur, do not leave unattended, In case of a stain, a water-free fabric cleaner can be used, However, avoid applying the cleaner directly on the stain as this can cause damage to the fabric and fade colour, Pour the cleaner onto a clean cloth and test its effect on a hidden area of the sofa before cleaning the stain with the cloth, A professional scotchguard treatment is one of the easiest and most effective options to protect against spills or stains and keep pet hair at bay, Getting your sofa professionally cleaned once every 6-8 months will not only take care of the nooks and corners that you can't reach, it will also make it more durable Finish Type Matte Important Note Cancellation NOT allowed for this product after 24 hrs of order booking. Warranty Covered in Warranty Warranty covers all kind of manufacturing defects. Concerned product will either be repaired or replaced based on discretion. Service Type Manufacturer Warranty Warranty Summary 6 Months Domestic Warranty Not Covered in Warranty Warranty does not cover for Improper Handling Dimensions Weight 40 kg Height 838 mm Width 1905 mm Depth 939 mm Disclaimer - The color of the product may vary slightly compared to the picture displayed on your screen. This is due to lighting, pixel quality and color settings - Please check the product's dimensions to ensure the product will fit in the desired location. Also, check if the product will fit through...View More - The color of the product may vary slightly compared to the picture displayed on your screen. This is due to lighting, pixel quality and color settings - Please check the product's dimensions to ensure the product will fit in the desired location. Also, check if the product will fit through the entrance(s) and door(s) of the premises - Please expect an unevenness of up to 5 mm in the product due to differences in surfaces and floor levels - Flipkart, or the Seller delivering the product, will not take up any type of civil work, such as drilling holes in the wall to mount the product. The product will only be assembled in case carpentry assembly is required - In case the product appears to lack shine, wiping the surface with a cloth will help clear the surface of dust particles Material & Color Upholstery Color Leatherette Black Primary Color Black Primary Material Fabric Secondary Material Subtype Mango Wood Secondary Material Foam Finish Color Leatherette Black Primary Material Subtype Foam\""
      ]
     },
     "execution_count": 8,
     "metadata": {},
     "output_type": "execute_result"
    }
   ],
   "source": [
    "data['description'][1]"
   ]
  },
  {
   "cell_type": "code",
   "execution_count": 9,
   "metadata": {},
   "outputs": [
    {
     "name": "stdout",
     "output_type": "stream",
     "text": [
      "<class 'pandas.core.frame.DataFrame'>\n",
      "RangeIndex: 20000 entries, 0 to 19999\n",
      "Data columns (total 15 columns):\n",
      " #   Column                   Non-Null Count  Dtype  \n",
      "---  ------                   --------------  -----  \n",
      " 0   uniq_id                  20000 non-null  object \n",
      " 1   crawl_timestamp          20000 non-null  object \n",
      " 2   product_url              20000 non-null  object \n",
      " 3   product_name             20000 non-null  object \n",
      " 4   product_category_tree    20000 non-null  object \n",
      " 5   pid                      20000 non-null  object \n",
      " 6   retail_price             19922 non-null  float64\n",
      " 7   discounted_price         19922 non-null  float64\n",
      " 8   image                    19997 non-null  object \n",
      " 9   is_FK_Advantage_product  20000 non-null  bool   \n",
      " 10  description              19998 non-null  object \n",
      " 11  product_rating           20000 non-null  object \n",
      " 12  overall_rating           20000 non-null  object \n",
      " 13  brand                    14136 non-null  object \n",
      " 14  product_specifications   19986 non-null  object \n",
      "dtypes: bool(1), float64(2), object(12)\n",
      "memory usage: 2.2+ MB\n"
     ]
    }
   ],
   "source": [
    "data.info()"
   ]
  },
  {
   "cell_type": "markdown",
   "metadata": {},
   "source": [
    "# Observations\n",
    "1.DataSet has total 15 columns and 20000 Observations\n",
    "2.is_FK_Advantage_product is boolean, Retail_price & discounted_price cloumns are numerical and remaining are categorical"
   ]
  },
  {
   "cell_type": "code",
   "execution_count": 10,
   "metadata": {},
   "outputs": [
    {
     "data": {
      "text/plain": [
       "(20000, 15)"
      ]
     },
     "execution_count": 10,
     "metadata": {},
     "output_type": "execute_result"
    }
   ],
   "source": [
    "data.shape"
   ]
  },
  {
   "cell_type": "markdown",
   "metadata": {},
   "source": [
    "## EDA"
   ]
  },
  {
   "cell_type": "markdown",
   "metadata": {},
   "source": [
    "### Summary Statistics"
   ]
  },
  {
   "cell_type": "code",
   "execution_count": 11,
   "metadata": {},
   "outputs": [
    {
     "data": {
      "text/html": [
       "<div>\n",
       "<style scoped>\n",
       "    .dataframe tbody tr th:only-of-type {\n",
       "        vertical-align: middle;\n",
       "    }\n",
       "\n",
       "    .dataframe tbody tr th {\n",
       "        vertical-align: top;\n",
       "    }\n",
       "\n",
       "    .dataframe thead th {\n",
       "        text-align: right;\n",
       "    }\n",
       "</style>\n",
       "<table border=\"1\" class=\"dataframe\">\n",
       "  <thead>\n",
       "    <tr style=\"text-align: right;\">\n",
       "      <th></th>\n",
       "      <th>retail_price</th>\n",
       "      <th>discounted_price</th>\n",
       "    </tr>\n",
       "  </thead>\n",
       "  <tbody>\n",
       "    <tr>\n",
       "      <th>count</th>\n",
       "      <td>19922.000000</td>\n",
       "      <td>19922.000000</td>\n",
       "    </tr>\n",
       "    <tr>\n",
       "      <th>mean</th>\n",
       "      <td>2979.206104</td>\n",
       "      <td>1973.401767</td>\n",
       "    </tr>\n",
       "    <tr>\n",
       "      <th>std</th>\n",
       "      <td>9009.639341</td>\n",
       "      <td>7333.586040</td>\n",
       "    </tr>\n",
       "    <tr>\n",
       "      <th>min</th>\n",
       "      <td>35.000000</td>\n",
       "      <td>35.000000</td>\n",
       "    </tr>\n",
       "    <tr>\n",
       "      <th>25%</th>\n",
       "      <td>666.000000</td>\n",
       "      <td>350.000000</td>\n",
       "    </tr>\n",
       "    <tr>\n",
       "      <th>50%</th>\n",
       "      <td>1040.000000</td>\n",
       "      <td>550.000000</td>\n",
       "    </tr>\n",
       "    <tr>\n",
       "      <th>75%</th>\n",
       "      <td>1999.000000</td>\n",
       "      <td>999.000000</td>\n",
       "    </tr>\n",
       "    <tr>\n",
       "      <th>max</th>\n",
       "      <td>571230.000000</td>\n",
       "      <td>571230.000000</td>\n",
       "    </tr>\n",
       "  </tbody>\n",
       "</table>\n",
       "</div>"
      ],
      "text/plain": [
       "        retail_price  discounted_price\n",
       "count   19922.000000      19922.000000\n",
       "mean     2979.206104       1973.401767\n",
       "std      9009.639341       7333.586040\n",
       "min        35.000000         35.000000\n",
       "25%       666.000000        350.000000\n",
       "50%      1040.000000        550.000000\n",
       "75%      1999.000000        999.000000\n",
       "max    571230.000000     571230.000000"
      ]
     },
     "execution_count": 11,
     "metadata": {},
     "output_type": "execute_result"
    }
   ],
   "source": [
    "#Univariate Analysis\n",
    "data.describe()"
   ]
  },
  {
   "cell_type": "code",
   "execution_count": 12,
   "metadata": {},
   "outputs": [
    {
     "name": "stdout",
     "output_type": "stream",
     "text": [
      "uniq_id   count                                20000\n",
      "unique                               20000\n",
      "top       c2d766ca982eca8304150849735ffef9\n",
      "freq                                     1\n",
      "Name: uniq_id, dtype: object\n",
      "================================\n",
      "\n",
      "\n",
      "crawl_timestamp   count                         20000\n",
      "unique                          371\n",
      "top       2015-12-01 12:40:44 +0000\n",
      "freq                           1979\n",
      "Name: crawl_timestamp, dtype: object\n",
      "================================\n",
      "\n",
      "\n",
      "product_url   count                                                 20000\n",
      "unique                                                20000\n",
      "top       http://www.flipkart.com/alisha-solid-women-s-c...\n",
      "freq                                                      1\n",
      "Name: product_url, dtype: object\n",
      "================================\n",
      "\n",
      "\n",
      "product_name   count                                          20000\n",
      "unique                                         12676\n",
      "top       TheLostPuppy Back Cover for Apple iPad Air\n",
      "freq                                             134\n",
      "Name: product_name, dtype: object\n",
      "================================\n",
      "\n",
      "\n",
      "product_category_tree   count                                                20000\n",
      "unique                                                6466\n",
      "top       [\"Jewellery >> Necklaces & Chains >> Necklaces\"]\n",
      "freq                                                  1567\n",
      "Name: product_category_tree, dtype: object\n",
      "================================\n",
      "\n",
      "\n",
      "pid   count                20000\n",
      "unique               19998\n",
      "top       JEAEGE8Q8GXYFTGU\n",
      "freq                     2\n",
      "Name: pid, dtype: object\n",
      "================================\n",
      "\n",
      "\n",
      "image   count                                                 19997\n",
      "unique                                                18589\n",
      "top       [\"http://img6a.flixcart.com/image/car-mat/m/t/...\n",
      "freq                                                     45\n",
      "Name: image, dtype: object\n",
      "================================\n",
      "\n",
      "\n",
      "description   count                                                 19998\n",
      "unique                                                17539\n",
      "top       TheLostPuppy Back Cover for Apple iPad Air (Mu...\n",
      "freq                                                     92\n",
      "Name: description, dtype: object\n",
      "================================\n",
      "\n",
      "\n",
      "product_rating   count                   20000\n",
      "unique                     36\n",
      "top       No rating available\n",
      "freq                    18151\n",
      "Name: product_rating, dtype: object\n",
      "================================\n",
      "\n",
      "\n",
      "overall_rating   count                   20000\n",
      "unique                     36\n",
      "top       No rating available\n",
      "freq                    18151\n",
      "Name: overall_rating, dtype: object\n",
      "================================\n",
      "\n",
      "\n",
      "brand   count           14136\n",
      "unique           3499\n",
      "top       Allure Auto\n",
      "freq              469\n",
      "Name: brand, dtype: object\n",
      "================================\n",
      "\n",
      "\n",
      "product_specifications   count                                                 19986\n",
      "unique                                                18825\n",
      "top       {\"product_specification\"=>[{\"key\"=>\"Type\", \"va...\n",
      "freq                                                     71\n",
      "Name: product_specifications, dtype: object\n",
      "================================\n",
      "\n",
      "\n"
     ]
    }
   ],
   "source": [
    "#checking the unique values & count for each categorical column\n",
    "for i in data.columns:\n",
    "    if data[i].dtype==\"object\":\n",
    "        print(i,' ',data[i].describe())\n",
    "        print('================================')\n",
    "        print('\\n')"
   ]
  },
  {
   "cell_type": "markdown",
   "metadata": {},
   "source": [
    "# Observations\n",
    "1.uniq_id has 19998 different values so we can drop this column.\n",
    "\n",
    "2.product_url is combination of product name and pid.\n",
    "\n",
    "3.product_name details are already availble in the description field.        \n",
    "\n",
    "4.pid has 19998 different values so we can drop this column.\n",
    "\n",
    "5.retail_price & discounted_price are not useful for our classification because these prices are not constant.\n",
    "\n",
    "6.image details are not available currently.\n",
    "\n",
    "7.Most of the observations are not having values for product_rating & overall_rating features.\n",
    "\n",
    "8.brand has more than 30% null values.so we are droping this field also.\n",
    "\n",
    "9.description & product_specifications are useful features for our text classification and product_category_tree is the target field.\n",
    "\n",
    "10.We are considering only \"description\" as a feature for current work. "
   ]
  },
  {
   "cell_type": "code",
   "execution_count": 13,
   "metadata": {},
   "outputs": [],
   "source": [
    "# Adding new column \"length\" which gives the total length of input variable \"Description\"\n",
    "data['length']=data['description'].str.len()"
   ]
  },
  {
   "cell_type": "code",
   "execution_count": 14,
   "metadata": {},
   "outputs": [
    {
     "data": {
      "text/plain": [
       "(5309.0, 74.0)"
      ]
     },
     "execution_count": 14,
     "metadata": {},
     "output_type": "execute_result"
    }
   ],
   "source": [
    "maxlength = data['length'].max()\n",
    "minlength = data['length'].min()\n",
    "maxlength,minlength"
   ]
  },
  {
   "cell_type": "code",
   "execution_count": 15,
   "metadata": {},
   "outputs": [],
   "source": [
    "#Adding New column with no of words in the description before text pre processing\n",
    "data['no_of_words'] = data.description.apply(lambda x : len(str(x).split()))"
   ]
  },
  {
   "cell_type": "markdown",
   "metadata": {},
   "source": [
    "### Word count distribution before text cleaning"
   ]
  },
  {
   "cell_type": "code",
   "execution_count": 16,
   "metadata": {},
   "outputs": [],
   "source": [
    "bins=[0,50,75, np.inf]\n",
    "data['bins']=pd.cut(data.no_of_words, bins=[0,100,300,500,800, np.inf], labels=['0-100', '100-200', '200-500','500-800' ,'>800'])"
   ]
  },
  {
   "cell_type": "code",
   "execution_count": 17,
   "metadata": {},
   "outputs": [],
   "source": [
    "words_distribution = data.groupby('bins').size().reset_index().rename(columns={0:'word_counts'})"
   ]
  },
  {
   "cell_type": "code",
   "execution_count": 18,
   "metadata": {},
   "outputs": [
    {
     "data": {
      "text/html": [
       "<div>\n",
       "<style scoped>\n",
       "    .dataframe tbody tr th:only-of-type {\n",
       "        vertical-align: middle;\n",
       "    }\n",
       "\n",
       "    .dataframe tbody tr th {\n",
       "        vertical-align: top;\n",
       "    }\n",
       "\n",
       "    .dataframe thead th {\n",
       "        text-align: right;\n",
       "    }\n",
       "</style>\n",
       "<table border=\"1\" class=\"dataframe\">\n",
       "  <thead>\n",
       "    <tr style=\"text-align: right;\">\n",
       "      <th></th>\n",
       "      <th>bins</th>\n",
       "      <th>word_counts</th>\n",
       "    </tr>\n",
       "  </thead>\n",
       "  <tbody>\n",
       "    <tr>\n",
       "      <th>0</th>\n",
       "      <td>0-100</td>\n",
       "      <td>16141</td>\n",
       "    </tr>\n",
       "    <tr>\n",
       "      <th>1</th>\n",
       "      <td>100-200</td>\n",
       "      <td>3497</td>\n",
       "    </tr>\n",
       "    <tr>\n",
       "      <th>2</th>\n",
       "      <td>200-500</td>\n",
       "      <td>299</td>\n",
       "    </tr>\n",
       "    <tr>\n",
       "      <th>3</th>\n",
       "      <td>500-800</td>\n",
       "      <td>61</td>\n",
       "    </tr>\n",
       "    <tr>\n",
       "      <th>4</th>\n",
       "      <td>&gt;800</td>\n",
       "      <td>2</td>\n",
       "    </tr>\n",
       "  </tbody>\n",
       "</table>\n",
       "</div>"
      ],
      "text/plain": [
       "      bins  word_counts\n",
       "0    0-100        16141\n",
       "1  100-200         3497\n",
       "2  200-500          299\n",
       "3  500-800           61\n",
       "4     >800            2"
      ]
     },
     "execution_count": 18,
     "metadata": {},
     "output_type": "execute_result"
    }
   ],
   "source": [
    "words_distribution.head()"
   ]
  },
  {
   "cell_type": "code",
   "execution_count": 19,
   "metadata": {},
   "outputs": [
    {
     "data": {
      "text/plain": [
       "Text(0.5, 1.0, 'Word distribution per bin')"
      ]
     },
     "execution_count": 19,
     "metadata": {},
     "output_type": "execute_result"
    },
    {
     "data": {
      "image/png": "[encoded data removed]",
      "text/plain": [
       "<Figure size 640x480 with 1 Axes>"
      ]
     },
     "metadata": {},
     "output_type": "display_data"
    }
   ],
   "source": [
    "sns.barplot(x='bins', y='word_counts', data=words_distribution).set_title(\"Word distribution per bin\")"
   ]
  },
  {
   "cell_type": "raw",
   "metadata": {},
   "source": [
    "Observation\n",
    "Most of the descriptions having less than 200 words."
   ]
  },
  {
   "cell_type": "markdown",
   "metadata": {},
   "source": [
    "# Data Preprocessing"
   ]
  },
  {
   "cell_type": "markdown",
   "metadata": {},
   "source": [
    "### Handling Missing Values "
   ]
  },
  {
   "cell_type": "code",
   "execution_count": 20,
   "metadata": {},
   "outputs": [
    {
     "data": {
      "text/html": [
       "<div>\n",
       "<style scoped>\n",
       "    .dataframe tbody tr th:only-of-type {\n",
       "        vertical-align: middle;\n",
       "    }\n",
       "\n",
       "    .dataframe tbody tr th {\n",
       "        vertical-align: top;\n",
       "    }\n",
       "\n",
       "    .dataframe thead th {\n",
       "        text-align: right;\n",
       "    }\n",
       "</style>\n",
       "<table border=\"1\" class=\"dataframe\">\n",
       "  <thead>\n",
       "    <tr style=\"text-align: right;\">\n",
       "      <th></th>\n",
       "      <th>missing</th>\n",
       "      <th>percent</th>\n",
       "    </tr>\n",
       "  </thead>\n",
       "  <tbody>\n",
       "    <tr>\n",
       "      <th>brand</th>\n",
       "      <td>5864</td>\n",
       "      <td>0.29320</td>\n",
       "    </tr>\n",
       "    <tr>\n",
       "      <th>retail_price</th>\n",
       "      <td>78</td>\n",
       "      <td>0.00390</td>\n",
       "    </tr>\n",
       "    <tr>\n",
       "      <th>discounted_price</th>\n",
       "      <td>78</td>\n",
       "      <td>0.00390</td>\n",
       "    </tr>\n",
       "    <tr>\n",
       "      <th>product_specifications</th>\n",
       "      <td>14</td>\n",
       "      <td>0.00070</td>\n",
       "    </tr>\n",
       "    <tr>\n",
       "      <th>image</th>\n",
       "      <td>3</td>\n",
       "      <td>0.00015</td>\n",
       "    </tr>\n",
       "    <tr>\n",
       "      <th>length</th>\n",
       "      <td>2</td>\n",
       "      <td>0.00010</td>\n",
       "    </tr>\n",
       "    <tr>\n",
       "      <th>description</th>\n",
       "      <td>2</td>\n",
       "      <td>0.00010</td>\n",
       "    </tr>\n",
       "    <tr>\n",
       "      <th>uniq_id</th>\n",
       "      <td>0</td>\n",
       "      <td>0.00000</td>\n",
       "    </tr>\n",
       "    <tr>\n",
       "      <th>product_rating</th>\n",
       "      <td>0</td>\n",
       "      <td>0.00000</td>\n",
       "    </tr>\n",
       "    <tr>\n",
       "      <th>no_of_words</th>\n",
       "      <td>0</td>\n",
       "      <td>0.00000</td>\n",
       "    </tr>\n",
       "    <tr>\n",
       "      <th>overall_rating</th>\n",
       "      <td>0</td>\n",
       "      <td>0.00000</td>\n",
       "    </tr>\n",
       "    <tr>\n",
       "      <th>is_FK_Advantage_product</th>\n",
       "      <td>0</td>\n",
       "      <td>0.00000</td>\n",
       "    </tr>\n",
       "    <tr>\n",
       "      <th>crawl_timestamp</th>\n",
       "      <td>0</td>\n",
       "      <td>0.00000</td>\n",
       "    </tr>\n",
       "    <tr>\n",
       "      <th>pid</th>\n",
       "      <td>0</td>\n",
       "      <td>0.00000</td>\n",
       "    </tr>\n",
       "    <tr>\n",
       "      <th>product_category_tree</th>\n",
       "      <td>0</td>\n",
       "      <td>0.00000</td>\n",
       "    </tr>\n",
       "    <tr>\n",
       "      <th>product_name</th>\n",
       "      <td>0</td>\n",
       "      <td>0.00000</td>\n",
       "    </tr>\n",
       "    <tr>\n",
       "      <th>product_url</th>\n",
       "      <td>0</td>\n",
       "      <td>0.00000</td>\n",
       "    </tr>\n",
       "    <tr>\n",
       "      <th>bins</th>\n",
       "      <td>0</td>\n",
       "      <td>0.00000</td>\n",
       "    </tr>\n",
       "  </tbody>\n",
       "</table>\n",
       "</div>"
      ],
      "text/plain": [
       "                         missing  percent\n",
       "brand                       5864  0.29320\n",
       "retail_price                  78  0.00390\n",
       "discounted_price              78  0.00390\n",
       "product_specifications        14  0.00070\n",
       "image                          3  0.00015\n",
       "length                         2  0.00010\n",
       "description                    2  0.00010\n",
       "uniq_id                        0  0.00000\n",
       "product_rating                 0  0.00000\n",
       "no_of_words                    0  0.00000\n",
       "overall_rating                 0  0.00000\n",
       "is_FK_Advantage_product        0  0.00000\n",
       "crawl_timestamp                0  0.00000\n",
       "pid                            0  0.00000\n",
       "product_category_tree          0  0.00000\n",
       "product_name                   0  0.00000\n",
       "product_url                    0  0.00000\n",
       "bins                           0  0.00000"
      ]
     },
     "execution_count": 20,
     "metadata": {},
     "output_type": "execute_result"
    }
   ],
   "source": [
    "# Number of missing values in each column\n",
    "missing = pd.DataFrame(data.isnull().sum()).rename(columns = {0: 'missing'})\n",
    "\n",
    "# Create a percentage of missing values\n",
    "missing['percent'] = missing['missing'] / len(data)\n",
    "\n",
    "# sorting the values in desending order to see highest count on the top\n",
    "missing.sort_values('percent', ascending = False)"
   ]
  },
  {
   "cell_type": "markdown",
   "metadata": {},
   "source": [
    "### Text Preprocessing"
   ]
  },
  {
   "cell_type": "code",
   "execution_count": 21,
   "metadata": {},
   "outputs": [
    {
     "data": {
      "text/plain": [
       "0    key features of alisha solid women's cycling s...\n",
       "1    fabhomedecor fabric double sofa bed (finish co...\n",
       "2    key features of aw bellies sandals wedges heel...\n",
       "3    key features of alisha solid women's cycling s...\n",
       "4    specifications of sicons all purpose arnica do...\n",
       "Name: description, dtype: object"
      ]
     },
     "execution_count": 21,
     "metadata": {},
     "output_type": "execute_result"
    }
   ],
   "source": [
    "# Remove punctuation\n",
    "data['description'] = data['description'].str.replace(r'[^\\w\\d\\s]', ' ')\n",
    "\n",
    "# Replace whitespace between terms with a single space\n",
    "data['description'] = data['description'].str.replace(r'\\s+', ' ')\n",
    "\n",
    "# Remove leading and trailing whitespace\n",
    "data['description'] = data['description'].str.replace(r'^\\s+|\\s+?$', '')\n",
    "# converting to lower case\n",
    "data['description'] = data['description'].str.lower()\n",
    "data['description'].head()"
   ]
  },
  {
   "cell_type": "code",
   "execution_count": 22,
   "metadata": {},
   "outputs": [],
   "source": [
    "# Removing Stop words\n",
    "stop = stopwords.words('english')\n",
    "pattern = r'\\b(?:{})\\b'.format('|'.join(stop))\n",
    "data['description'] = data['description'].str.replace(pattern, '')\n",
    "# Removing single characters\n",
    "data['description'] = data['description'].str.replace(r'\\s+', ' ')\n",
    "data['description'] = data['description'].apply(lambda x: \" \".join(x for x in str(x).split() if len(x)>1))"
   ]
  },
  {
   "cell_type": "code",
   "execution_count": 23,
   "metadata": {},
   "outputs": [
    {
     "name": "stdout",
     "output_type": "stream",
     "text": [
      "showing info https://raw.githubusercontent.com/nltk/nltk_data/gh-pages/index.xml\n"
     ]
    },
    {
     "data": {
      "text/plain": [
       "True"
      ]
     },
     "execution_count": 23,
     "metadata": {},
     "output_type": "execute_result"
    }
   ],
   "source": [
    "import nltk\n",
    "nltk.download()"
   ]
  },
  {
   "cell_type": "code",
   "execution_count": 24,
   "metadata": {},
   "outputs": [],
   "source": [
    "from nltk.tokenize import word_tokenize"
   ]
  },
  {
   "cell_type": "code",
   "execution_count": 25,
   "metadata": {},
   "outputs": [
    {
     "data": {
      "image/png": "[encoded data removed]",
      "text/plain": [
       "<Figure size 640x480 with 1 Axes>"
      ]
     },
     "metadata": {},
     "output_type": "display_data"
    },
    {
     "name": "stdout",
     "output_type": "stream",
     "text": [
      "[('of', 31932), ('for', 29971), ('the', 24497), ('and', 21796), ('only', 20322), ('in', 18801), ('rs.', 15045), ('to', 14740), ('with', 14058), ('on', 12021)]\n"
     ]
    }
   ],
   "source": [
    "# Frequent word list before removing domain related stop words.\n",
    "a = data['description'].str.cat(sep=' ')\n",
    "words = a.split()\n",
    "word_dist = nltk.FreqDist(words)\n",
    "word_dist.plot(10,cumulative=False)\n",
    "\n",
    "print(word_dist.most_common(10))"
   ]
  },
  {
   "cell_type": "code",
   "execution_count": null,
   "metadata": {},
   "outputs": [],
   "source": []
  },
  {
   "cell_type": "code",
   "execution_count": 26,
   "metadata": {},
   "outputs": [
    {
     "data": {
      "text/plain": [
       "0    features of alisha solid women's cycling short...\n",
       "1    fabhomedecor fabric double sofa bed (finish co...\n",
       "2    features of aw bellies sandals wedges heel cas...\n",
       "3    features of alisha solid women's cycling short...\n",
       "4    specifications of sicons all purpose arnica do...\n",
       "Name: description, dtype: object"
      ]
     },
     "execution_count": 26,
     "metadata": {},
     "output_type": "execute_result"
    }
   ],
   "source": [
    "# Removing domain realted stop words from description\n",
    "specific_stop_words = [ \"rs\",\"flipkart\",\"buy\",\"com\",\"free\",\"day\",\"cash\",\"replacement\",\"guarantee\",\"genuine\",\"key\",\"feature\",\"delivery\",\"products\",\"product\",\"shipping\", \"online\",\"india\",\"shop\"]\n",
    "data['description'] = data['description'].apply(lambda x: \" \".join(x for x in x.split() if x not in specific_stop_words))\n",
    "data['description'].head()"
   ]
  },
  {
   "cell_type": "code",
   "execution_count": 27,
   "metadata": {},
   "outputs": [
    {
     "data": {
      "image/png": "[encoded data removed]",
      "text/plain": [
       "<Figure size 640x480 with 1 Axes>"
      ]
     },
     "metadata": {},
     "output_type": "display_data"
    },
    {
     "name": "stdout",
     "output_type": "stream",
     "text": [
      "[('of', 31932), ('for', 29971), ('the', 24497), ('and', 21796), ('only', 20322), ('in', 18801), ('rs.', 15045), ('to', 14740), ('with', 14058), ('on', 12021)]\n"
     ]
    }
   ],
   "source": [
    "#Top frequent words after removing domain related stop words\n",
    "a = data['description'].str.cat(sep=' ')\n",
    "words = a.split()\n",
    "word_dist = nltk.FreqDist(words)\n",
    "word_dist.plot(10,cumulative=False)\n",
    "print(word_dist.most_common(10))"
   ]
  },
  {
   "cell_type": "markdown",
   "metadata": {},
   "source": [
    "## Word count distribution After text preprocessing"
   ]
  },
  {
   "cell_type": "code",
   "execution_count": 28,
   "metadata": {},
   "outputs": [],
   "source": [
    "data['clean_no_of_words'] = data.description.apply(lambda x : len(x.split()))"
   ]
  },
  {
   "cell_type": "code",
   "execution_count": 29,
   "metadata": {},
   "outputs": [],
   "source": [
    "data['clean_bins']=pd.cut(data.clean_no_of_words, bins=[0,100,300,500,800, np.inf], labels=['0-100', '100-200', '200-500','500-800' ,'>800'])"
   ]
  },
  {
   "cell_type": "code",
   "execution_count": 30,
   "metadata": {},
   "outputs": [],
   "source": [
    "clean_words_distribution = data.groupby('clean_bins').size().reset_index().rename(columns={0:'clean_word_counts'})"
   ]
  },
  {
   "cell_type": "code",
   "execution_count": 31,
   "metadata": {},
   "outputs": [
    {
     "data": {
      "text/html": [
       "<div>\n",
       "<style scoped>\n",
       "    .dataframe tbody tr th:only-of-type {\n",
       "        vertical-align: middle;\n",
       "    }\n",
       "\n",
       "    .dataframe tbody tr th {\n",
       "        vertical-align: top;\n",
       "    }\n",
       "\n",
       "    .dataframe thead th {\n",
       "        text-align: right;\n",
       "    }\n",
       "</style>\n",
       "<table border=\"1\" class=\"dataframe\">\n",
       "  <thead>\n",
       "    <tr style=\"text-align: right;\">\n",
       "      <th></th>\n",
       "      <th>clean_bins</th>\n",
       "      <th>clean_word_counts</th>\n",
       "    </tr>\n",
       "  </thead>\n",
       "  <tbody>\n",
       "    <tr>\n",
       "      <th>0</th>\n",
       "      <td>0-100</td>\n",
       "      <td>16375</td>\n",
       "    </tr>\n",
       "    <tr>\n",
       "      <th>1</th>\n",
       "      <td>100-200</td>\n",
       "      <td>3336</td>\n",
       "    </tr>\n",
       "    <tr>\n",
       "      <th>2</th>\n",
       "      <td>200-500</td>\n",
       "      <td>241</td>\n",
       "    </tr>\n",
       "    <tr>\n",
       "      <th>3</th>\n",
       "      <td>500-800</td>\n",
       "      <td>46</td>\n",
       "    </tr>\n",
       "    <tr>\n",
       "      <th>4</th>\n",
       "      <td>&gt;800</td>\n",
       "      <td>2</td>\n",
       "    </tr>\n",
       "  </tbody>\n",
       "</table>\n",
       "</div>"
      ],
      "text/plain": [
       "  clean_bins  clean_word_counts\n",
       "0      0-100              16375\n",
       "1    100-200               3336\n",
       "2    200-500                241\n",
       "3    500-800                 46\n",
       "4       >800                  2"
      ]
     },
     "execution_count": 31,
     "metadata": {},
     "output_type": "execute_result"
    }
   ],
   "source": [
    "clean_words_distribution.head()"
   ]
  },
  {
   "cell_type": "code",
   "execution_count": 32,
   "metadata": {},
   "outputs": [
    {
     "data": {
      "text/plain": [
       "Text(0.5, 1.0, 'Clean Word distribution per bin')"
      ]
     },
     "execution_count": 32,
     "metadata": {},
     "output_type": "execute_result"
    },
    {
     "data": {
      "image/png": "[encoded data removed]",
      "text/plain": [
       "<Figure size 640x480 with 1 Axes>"
      ]
     },
     "metadata": {},
     "output_type": "display_data"
    }
   ],
   "source": [
    "sns.barplot(x='clean_bins', y='clean_word_counts', data=clean_words_distribution).set_title(\"Clean Word distribution per bin\")"
   ]
  },
  {
   "cell_type": "markdown",
   "metadata": {},
   "source": [
    "## Feature Selection\n"
   ]
  },
  {
   "cell_type": "code",
   "execution_count": 33,
   "metadata": {},
   "outputs": [],
   "source": [
    "#We are cosidering only one feature \"description\" in current work."
   ]
  },
  {
   "cell_type": "markdown",
   "metadata": {},
   "source": [
    "# Modelling"
   ]
  },
  {
   "cell_type": "markdown",
   "metadata": {},
   "source": [
    "## Building recommendation model"
   ]
  },
  {
   "cell_type": "code",
   "execution_count": 34,
   "metadata": {},
   "outputs": [
    {
     "data": {
      "text/plain": [
       "(20000, 26198)"
      ]
     },
     "execution_count": 34,
     "metadata": {},
     "output_type": "execute_result"
    }
   ],
   "source": [
    "tfidf = TfidfVectorizer(stop_words='english')\n",
    "\n",
    "#Replace NaN with an empty string\n",
    "data['description'] = data['description'].fillna('')\n",
    "\n",
    "#Construct the required TF-IDF matrix by fitting and transforming the data\n",
    "tfidf_matrix = tfidf.fit_transform(data['description'])\n",
    "\n",
    "tfidf_matrix.shape"
   ]
  },
  {
   "cell_type": "code",
   "execution_count": 35,
   "metadata": {},
   "outputs": [],
   "source": [
    "#Construct a reverse map of indices and product\n",
    "indices = pd.Series(data.index, index=data['product_name']).drop_duplicates()\n",
    "#indices"
   ]
  },
  {
   "cell_type": "code",
   "execution_count": 36,
   "metadata": {},
   "outputs": [],
   "source": [
    "# Lee Parke Running Shoes"
   ]
  },
  {
   "cell_type": "code",
   "execution_count": null,
   "metadata": {},
   "outputs": [],
   "source": [
    "# Function that takes in product title as input and outputs most similar product\n",
    "def get_recommendations(title):\n",
    "    # Get the index of the product that matches the description\n",
    "    idx = indices[title]\n",
    "\n",
    "    # Get the pairwsie similarity scores of all products with that product\n",
    "    cosine_sim = linear_kernel(tfidf_matrix[idx], tfidf_matrix)\n",
    "    sim_scores = list(enumerate(cosine_sim[0]))\n",
    "\n",
    "    # Sort the product based on the similarity scores\n",
    "    sim_scores = sorted(sim_scores, key=lambda x: x[1], reverse=True)\n",
    "\n",
    "    # Get the scores of the 10 most similar product\n",
    "    sim_scores = sim_scores[1:10]\n",
    "\n",
    "    # Get the product indices\n",
    "    product_indices = [i[0] for i in sim_scores]\n",
    "\n",
    "    # Return the top 5 most similar products\n",
    "    return data['product_name'].iloc[product_indices]\n",
    "\n",
    "recommended_product = get_recommendations(input(\"Enter a product name: \"))\n",
    "if recommended_product is not None:\n",
    "    print (\"Similar products\")\n",
    "    print(\"\\n\")\n",
    "    for product_name in recommended_product:\n",
    "        print (product_name)"
   ]
  },
  {
   "cell_type": "markdown",
   "metadata": {},
   "source": [
    "## Building search model"
   ]
  },
  {
   "cell_type": "code",
   "execution_count": 33,
   "metadata": {},
   "outputs": [],
   "source": [
    "#Creating list containing description of each product as sublist\n",
    "fin=[]\n",
    "for i in range(len(data['description'])):\n",
    "    temp=[]\n",
    "    temp.append(data['description'][i])\n",
    "    fin = fin + temp\n",
    "\n",
    "data1 = data[['product_name','description']]"
   ]
  },
  {
   "cell_type": "code",
   "execution_count": 82,
   "metadata": {},
   "outputs": [],
   "source": [
    "from gensim.models import KeyedVectors\n",
    "filename = 'C:\\\\Users\\\\Book4\\\\Chapters\\\\Completed Chapters\\\\rec sys\\\\GoogleNews-vectors-negative300.bin\\\\GoogleNews-vectors-negative300.bin'\n",
    "model = KeyedVectors.load_word2vec_format(filename, binary=True, limit=50000)"
   ]
  },
  {
   "cell_type": "code",
   "execution_count": 72,
   "metadata": {
    "collapsed": true
   },
   "outputs": [],
   "source": [
    "#Preprocessing \n",
    "\n",
    "def remove_stopwords(text, is_lower_case=False):\n",
    "    pattern = r'[^a-zA-z0-9\\s]' \n",
    "    text = re.sub(pattern, '', text[0])\n",
    "    tokens = nltk.word_tokenize(text)\n",
    "    tokens = [token.strip() for token in tokens]\n",
    "    if is_lower_case:\n",
    "        filtered_tokens = [token for token in tokens if token not in stopword_list]\n",
    "    else:\n",
    "        filtered_tokens = [token for token in tokens if token.lower() not in stopword_list]\n",
    "    filtered_text = ' '.join(filtered_tokens)    \n",
    "    return filtered_text"
   ]
  },
  {
   "cell_type": "code",
   "execution_count": 73,
   "metadata": {
    "collapsed": true
   },
   "outputs": [],
   "source": [
    "# Function to get the embedding vector for n dimension, we have used “300”\n",
    "\n",
    "def get_embedding(word):\n",
    "    if word in model.wv.vocab:\n",
    "        return model[x]\n",
    "    else:\n",
    "        return np.zeros(300)"
   ]
  },
  {
   "cell_type": "code",
   "execution_count": 80,
   "metadata": {},
   "outputs": [],
   "source": [
    "#x='product'\n",
    "# Getting average vector for each document \n",
    "out_dict =  {}\n",
    "for sen in fin:\n",
    "    average_vector = (np.mean(np.array([get_embedding(x) for x in nltk.word_tokenize(remove_stopwords(sen))]), axis=0))\n",
    "    dict = { sen : (average_vector) }\n",
    "    out_dict.update(dict)\n"
   ]
  },
  {
   "cell_type": "code",
   "execution_count": 75,
   "metadata": {
    "collapsed": true
   },
   "outputs": [],
   "source": [
    "# Function to calculate the similarity between the query vector and document vector\n",
    "\n",
    "def get_sim(query_embedding, average_vector_doc):\n",
    "    sim = [(1 - scipy.spatial.distance.cosine(query_embedding, average_vector_doc))]\n",
    "    return sim"
   ]
  },
  {
   "cell_type": "code",
   "execution_count": 76,
   "metadata": {
    "collapsed": true
   },
   "outputs": [],
   "source": [
    "# Rank all the documents based on the similarity to get relevant docs\n",
    "\n",
    "def Ranked_documents(query):\n",
    "    global rank\n",
    "    query_words =  (np.mean(np.array([get_embedding(x) for x in nltk.word_tokenize(query.lower())],dtype=float), axis=0))\n",
    "    rank = []\n",
    "    for k,v in out_dict.items():\n",
    "        rank.append((k, get_sim(query_words, v)))\n",
    "    rank = sorted(rank,key=lambda t: t[1], reverse=True)\n",
    "    dd =pd.DataFrame(rank,columns=['Desc','score'])\n",
    "    rankfin = pd.merge(data1,dd,left_on='description',right_on='Desc')\n",
    "    rankfin = rankfin[['product_name','description','score']]\n",
    "    print('Ranked Documents :')\n",
    "    return rankfin"
   ]
  },
  {
   "cell_type": "code",
   "execution_count": 77,
   "metadata": {},
   "outputs": [
    {
     "name": "stdout",
     "output_type": "stream",
     "text": [
      "What would you like to searchbag\n",
      "Ranked Documents :\n"
     ]
    },
    {
     "data": {
      "text/html": [
       "<div>\n",
       "<table border=\"1\" class=\"dataframe\">\n",
       "  <thead>\n",
       "    <tr style=\"text-align: right;\">\n",
       "      <th></th>\n",
       "      <th>product_name</th>\n",
       "      <th>description</th>\n",
       "      <th>score</th>\n",
       "    </tr>\n",
       "  </thead>\n",
       "  <tbody>\n",
       "    <tr>\n",
       "      <th>0</th>\n",
       "      <td>Alisha Solid Women's Cycling Shorts</td>\n",
       "      <td>key features alisha solid women cycling shorts...</td>\n",
       "      <td>[1.0000000515865854]</td>\n",
       "    </tr>\n",
       "    <tr>\n",
       "      <th>1</th>\n",
       "      <td>FabHomeDecor Fabric Double Sofa Bed</td>\n",
       "      <td>fabhomedecor fabric double sofa bed finish col...</td>\n",
       "      <td>[1.0000000515865854]</td>\n",
       "    </tr>\n",
       "    <tr>\n",
       "      <th>2</th>\n",
       "      <td>AW Bellies</td>\n",
       "      <td>key features aw bellies sandals wedges heel ca...</td>\n",
       "      <td>[1.0000000515865854]</td>\n",
       "    </tr>\n",
       "    <tr>\n",
       "      <th>3</th>\n",
       "      <td>Alisha Solid Women's Cycling Shorts</td>\n",
       "      <td>key features alisha solid women cycling shorts...</td>\n",
       "      <td>[1.0000000515865854]</td>\n",
       "    </tr>\n",
       "    <tr>\n",
       "      <th>4</th>\n",
       "      <td>Sicons All Purpose Arnica Dog Shampoo</td>\n",
       "      <td>specifications sicons purpose arnica dog shamp...</td>\n",
       "      <td>[nan]</td>\n",
       "    </tr>\n",
       "    <tr>\n",
       "      <th>5</th>\n",
       "      <td>Eternal Gandhi Super Series Crystal Paper Weig...</td>\n",
       "      <td>key features eternal gandhi super series cryst...</td>\n",
       "      <td>[1.0000000515865854]</td>\n",
       "    </tr>\n",
       "    <tr>\n",
       "      <th>6</th>\n",
       "      <td>Alisha Solid Women's Cycling Shorts</td>\n",
       "      <td>key features alisha solid women cycling shorts...</td>\n",
       "      <td>[1.0000000515865854]</td>\n",
       "    </tr>\n",
       "    <tr>\n",
       "      <th>7</th>\n",
       "      <td>FabHomeDecor Fabric Double Sofa Bed</td>\n",
       "      <td>fabhomedecor fabric double sofa bed finish col...</td>\n",
       "      <td>[1.0000000515865854]</td>\n",
       "    </tr>\n",
       "    <tr>\n",
       "      <th>8</th>\n",
       "      <td>dilli bazaaar Bellies, Corporate Casuals, Casuals</td>\n",
       "      <td>key features dilli bazaaar bellies corporate c...</td>\n",
       "      <td>[1.0000000515865854]</td>\n",
       "    </tr>\n",
       "    <tr>\n",
       "      <th>9</th>\n",
       "      <td>Alisha Solid Women's Cycling Shorts</td>\n",
       "      <td>key features alisha solid women cycling shorts...</td>\n",
       "      <td>[1.0000000515865854]</td>\n",
       "    </tr>\n",
       "    <tr>\n",
       "      <th>10</th>\n",
       "      <td>Ladela Bellies</td>\n",
       "      <td>key features ladela bellies brand ladela color...</td>\n",
       "      <td>[1.0000000515865854]</td>\n",
       "    </tr>\n",
       "    <tr>\n",
       "      <th>11</th>\n",
       "      <td>Carrel Printed Women's</td>\n",
       "      <td>key features carrel printed women fabric swiml...</td>\n",
       "      <td>[1.0000000515865854]</td>\n",
       "    </tr>\n",
       "    <tr>\n",
       "      <th>12</th>\n",
       "      <td>Sicons All Purpose Tea Tree Dog Shampoo</td>\n",
       "      <td>specifications sicons purpose tea tree dog sha...</td>\n",
       "      <td>[nan]</td>\n",
       "    </tr>\n",
       "    <tr>\n",
       "      <th>13</th>\n",
       "      <td>Alisha Solid Women's Cycling Shorts</td>\n",
       "      <td>key features alisha solid women cycling shorts...</td>\n",
       "      <td>[1.0000000515865854]</td>\n",
       "    </tr>\n",
       "    <tr>\n",
       "      <th>14</th>\n",
       "      <td>Freelance Vacuum Bottles 350 ml Bottle</td>\n",
       "      <td>specifications freelance vacuum bottles 350 ml...</td>\n",
       "      <td>[nan]</td>\n",
       "    </tr>\n",
       "    <tr>\n",
       "      <th>15</th>\n",
       "      <td>Alisha Solid Women's Cycling Shorts</td>\n",
       "      <td>key features alisha solid women cycling shorts...</td>\n",
       "      <td>[1.0000000515865854]</td>\n",
       "    </tr>\n",
       "    <tr>\n",
       "      <th>16</th>\n",
       "      <td>FabHomeDecor Fabric Double Sofa Bed</td>\n",
       "      <td>fabhomedecor fabric double sofa bed finish col...</td>\n",
       "      <td>[1.0000000515865854]</td>\n",
       "    </tr>\n",
       "    <tr>\n",
       "      <th>17</th>\n",
       "      <td>Style Foot Bellies</td>\n",
       "      <td>key features style foot bellies ballerina shoe...</td>\n",
       "      <td>[1.0000000515865854]</td>\n",
       "    </tr>\n",
       "    <tr>\n",
       "      <th>18</th>\n",
       "      <td>Carrel Printed Women's</td>\n",
       "      <td>key features carrel printed women fabric swiml...</td>\n",
       "      <td>[1.0000000515865854]</td>\n",
       "    </tr>\n",
       "    <tr>\n",
       "      <th>19</th>\n",
       "      <td>FabHomeDecor Fabric Double Sofa Bed</td>\n",
       "      <td>fabhomedecor fabric double sofa bed finish col...</td>\n",
       "      <td>[1.0000000515865854]</td>\n",
       "    </tr>\n",
       "    <tr>\n",
       "      <th>20</th>\n",
       "      <td>Sicons Conditioning Conditoner Dog Shampoo</td>\n",
       "      <td>specifications sicons conditioning conditoner ...</td>\n",
       "      <td>[nan]</td>\n",
       "    </tr>\n",
       "    <tr>\n",
       "      <th>21</th>\n",
       "      <td>Alisha Solid Women's Cycling Shorts</td>\n",
       "      <td>alisha solid women cycling shorts buy black wh...</td>\n",
       "      <td>[nan]</td>\n",
       "    </tr>\n",
       "    <tr>\n",
       "      <th>22</th>\n",
       "      <td>dongli Printed Boy's Round Neck T-Shirt</td>\n",
       "      <td>specifications dongli printed boy round neck s...</td>\n",
       "      <td>[nan]</td>\n",
       "    </tr>\n",
       "    <tr>\n",
       "      <th>23</th>\n",
       "      <td>SWAGGA Women Clogs</td>\n",
       "      <td>key features swagga women clogs occasion ethni...</td>\n",
       "      <td>[1.0000000515865854]</td>\n",
       "    </tr>\n",
       "    <tr>\n",
       "      <th>24</th>\n",
       "      <td>Kennel Rubber Dumbell With Bell - Small Rubber...</td>\n",
       "      <td>buy kennel rubber dumbell bell small rubber ru...</td>\n",
       "      <td>[1.0000000515865854]</td>\n",
       "    </tr>\n",
       "    <tr>\n",
       "      <th>25</th>\n",
       "      <td>Glus Wedding Lingerie Set</td>\n",
       "      <td>glus wedding lingerie set buy turquoise glus w...</td>\n",
       "      <td>[1.0000000515865854]</td>\n",
       "    </tr>\n",
       "    <tr>\n",
       "      <th>26</th>\n",
       "      <td>Veelys Shiny White Quad Roller Skates - Size 4...</td>\n",
       "      <td>veelys shiny white quad roller skates size uk ...</td>\n",
       "      <td>[1.0000000515865854]</td>\n",
       "    </tr>\n",
       "    <tr>\n",
       "      <th>27</th>\n",
       "      <td>Bulaky vanity case Jewellery Vanity Case</td>\n",
       "      <td>buy bulaky vanity case jewellery vanity case r...</td>\n",
       "      <td>[1.0000000515865854]</td>\n",
       "    </tr>\n",
       "    <tr>\n",
       "      <th>28</th>\n",
       "      <td>FDT Women's Leggings</td>\n",
       "      <td>fdt women leggings buy parrot green fdt women ...</td>\n",
       "      <td>[1.0000000515865854]</td>\n",
       "    </tr>\n",
       "    <tr>\n",
       "      <th>29</th>\n",
       "      <td>Madcaps C38GR30 Men's Cargos</td>\n",
       "      <td>madcaps c38gr30 men cargos buy green madcaps c...</td>\n",
       "      <td>[nan]</td>\n",
       "    </tr>\n",
       "    <tr>\n",
       "      <th>...</th>\n",
       "      <td>...</td>\n",
       "      <td>...</td>\n",
       "      <td>...</td>\n",
       "    </tr>\n",
       "    <tr>\n",
       "      <th>19968</th>\n",
       "      <td>Wallmantra Extra Large Vinyl Stickers Sticker</td>\n",
       "      <td>buy wallmantra extra large vinyl stickers stic...</td>\n",
       "      <td>[1.0000000515865854]</td>\n",
       "    </tr>\n",
       "    <tr>\n",
       "      <th>19969</th>\n",
       "      <td>Elite Collection Medium Acrylic Sticker</td>\n",
       "      <td>buy elite collection medium acrylic sticker rs...</td>\n",
       "      <td>[1.0000000515865854]</td>\n",
       "    </tr>\n",
       "    <tr>\n",
       "      <th>19970</th>\n",
       "      <td>Elite Collection Medium Acrylic Sticker</td>\n",
       "      <td>buy elite collection medium acrylic sticker rs...</td>\n",
       "      <td>[1.0000000515865854]</td>\n",
       "    </tr>\n",
       "    <tr>\n",
       "      <th>19971</th>\n",
       "      <td>Elite Collection Medium Acrylic Sticker</td>\n",
       "      <td>buy elite collection medium acrylic sticker rs...</td>\n",
       "      <td>[1.0000000515865854]</td>\n",
       "    </tr>\n",
       "    <tr>\n",
       "      <th>19972</th>\n",
       "      <td>Wallmantra Large Vinyl Stickers Sticker</td>\n",
       "      <td>wallmantra large vinyl stickers sticker pack p...</td>\n",
       "      <td>[1.0000000515865854]</td>\n",
       "    </tr>\n",
       "    <tr>\n",
       "      <th>19973</th>\n",
       "      <td>Uberlyfe Extra Large Pigmented Polyvinyl Films...</td>\n",
       "      <td>buy uberlyfe extra large pigmented polyvinyl f...</td>\n",
       "      <td>[1.0000000515865854]</td>\n",
       "    </tr>\n",
       "    <tr>\n",
       "      <th>19974</th>\n",
       "      <td>La Isla Women Heels</td>\n",
       "      <td>flipkart com buy la isla women heels rs 569 fl...</td>\n",
       "      <td>[1.0000000515865854]</td>\n",
       "    </tr>\n",
       "    <tr>\n",
       "      <th>19975</th>\n",
       "      <td>Wallmantra Medium Vinyl Sticker Sticker</td>\n",
       "      <td>buy wallmantra medium vinyl sticker sticker rs...</td>\n",
       "      <td>[1.0000000515865854]</td>\n",
       "    </tr>\n",
       "    <tr>\n",
       "      <th>19976</th>\n",
       "      <td>Fun To See Reusable Sticker</td>\n",
       "      <td>buy fun see reusable sticker rs 1099 online fu...</td>\n",
       "      <td>[1.0000000515865854]</td>\n",
       "    </tr>\n",
       "    <tr>\n",
       "      <th>19977</th>\n",
       "      <td>Wallmantra Extra Large Vinyl Stickers Sticker</td>\n",
       "      <td>buy wallmantra extra large vinyl stickers stic...</td>\n",
       "      <td>[1.0000000515865854]</td>\n",
       "    </tr>\n",
       "    <tr>\n",
       "      <th>19978</th>\n",
       "      <td>Sindhi Footwear Ballerina Bellies</td>\n",
       "      <td>sindhi footwear ballerina bellies buy sindhi f...</td>\n",
       "      <td>[nan]</td>\n",
       "    </tr>\n",
       "    <tr>\n",
       "      <th>19979</th>\n",
       "      <td>WallDesign Small Vinyl Sticker</td>\n",
       "      <td>buy walldesign small vinyl sticker rs 630 onli...</td>\n",
       "      <td>[1.0000000515865854]</td>\n",
       "    </tr>\n",
       "    <tr>\n",
       "      <th>19980</th>\n",
       "      <td>Wallmantra Small Vinyl Stickers Sticker</td>\n",
       "      <td>buy wallmantra small vinyl stickers sticker rs...</td>\n",
       "      <td>[1.0000000515865854]</td>\n",
       "    </tr>\n",
       "    <tr>\n",
       "      <th>19981</th>\n",
       "      <td>Wallmantra Large Vinyl Sticker Sticker</td>\n",
       "      <td>wallmantra large vinyl sticker sticker pack pr...</td>\n",
       "      <td>[1.0000000515865854]</td>\n",
       "    </tr>\n",
       "    <tr>\n",
       "      <th>19982</th>\n",
       "      <td>Wallmantra Large Vinyl Stickers Sticker</td>\n",
       "      <td>wallmantra large vinyl stickers sticker pack p...</td>\n",
       "      <td>[1.0000000515865854]</td>\n",
       "    </tr>\n",
       "    <tr>\n",
       "      <th>19983</th>\n",
       "      <td>Purple Women Heels</td>\n",
       "      <td>flipkart com buy purple women heels rs 899 fli...</td>\n",
       "      <td>[1.0000000515865854]</td>\n",
       "    </tr>\n",
       "    <tr>\n",
       "      <th>19984</th>\n",
       "      <td>Elite Collection Medium Acrylic Sticker</td>\n",
       "      <td>buy elite collection medium acrylic sticker rs...</td>\n",
       "      <td>[1.0000000515865854]</td>\n",
       "    </tr>\n",
       "    <tr>\n",
       "      <th>19985</th>\n",
       "      <td>Wallmantra Extra Large Vinyl Stickers Sticker</td>\n",
       "      <td>buy wallmantra extra large vinyl stickers stic...</td>\n",
       "      <td>[1.0000000515865854]</td>\n",
       "    </tr>\n",
       "    <tr>\n",
       "      <th>19986</th>\n",
       "      <td>Pinq Chiq Women Heels</td>\n",
       "      <td>flipkart com buy pinq chiq women heels rs 769 ...</td>\n",
       "      <td>[1.0000000515865854]</td>\n",
       "    </tr>\n",
       "    <tr>\n",
       "      <th>19987</th>\n",
       "      <td>Uberlyfe Large Vinyl Sticker</td>\n",
       "      <td>buy uberlyfe large vinyl sticker rs 595 online...</td>\n",
       "      <td>[1.0000000515865854]</td>\n",
       "    </tr>\n",
       "    <tr>\n",
       "      <th>19988</th>\n",
       "      <td>Wallmantra Extra Large Vinyl Stickers Sticker</td>\n",
       "      <td>buy wallmantra extra large vinyl stickers stic...</td>\n",
       "      <td>[1.0000000515865854]</td>\n",
       "    </tr>\n",
       "    <tr>\n",
       "      <th>19989</th>\n",
       "      <td>La Isla Women Heels</td>\n",
       "      <td>flipkart com buy la isla women heels rs 779 fl...</td>\n",
       "      <td>[1.0000000515865854]</td>\n",
       "    </tr>\n",
       "    <tr>\n",
       "      <th>19990</th>\n",
       "      <td>Wallmantra Large Vinyl Sticker Sticker</td>\n",
       "      <td>wallmantra large vinyl sticker sticker pack pr...</td>\n",
       "      <td>[1.0000000515865854]</td>\n",
       "    </tr>\n",
       "    <tr>\n",
       "      <th>19991</th>\n",
       "      <td>We Witches Comfy Hues Women Wedges</td>\n",
       "      <td>flipkart com buy witches comfy hues women wedg...</td>\n",
       "      <td>[1.0000000515865854]</td>\n",
       "    </tr>\n",
       "    <tr>\n",
       "      <th>19992</th>\n",
       "      <td>Stylistry Women Heels</td>\n",
       "      <td>flipkart com buy stylistry women heels rs 499 ...</td>\n",
       "      <td>[1.0000000515865854]</td>\n",
       "    </tr>\n",
       "    <tr>\n",
       "      <th>19993</th>\n",
       "      <td>Wallmantra Large Vinyl Stickers Sticker</td>\n",
       "      <td>buy wallmantra large vinyl stickers sticker rs...</td>\n",
       "      <td>[1.0000000515865854]</td>\n",
       "    </tr>\n",
       "    <tr>\n",
       "      <th>19994</th>\n",
       "      <td>Wallmantra Extra Large Vinyl Stickers Sticker</td>\n",
       "      <td>buy wallmantra extra large vinyl stickers stic...</td>\n",
       "      <td>[1.0000000515865854]</td>\n",
       "    </tr>\n",
       "    <tr>\n",
       "      <th>19995</th>\n",
       "      <td>Wallmantra Extra Large Vinyl Stickers Sticker</td>\n",
       "      <td>buy wallmantra extra large vinyl stickers stic...</td>\n",
       "      <td>[1.0000000515865854]</td>\n",
       "    </tr>\n",
       "    <tr>\n",
       "      <th>19996</th>\n",
       "      <td>Wallmantra Extra Large Vinyl Stickers Sticker</td>\n",
       "      <td>buy wallmantra extra large vinyl stickers stic...</td>\n",
       "      <td>[1.0000000515865854]</td>\n",
       "    </tr>\n",
       "    <tr>\n",
       "      <th>19997</th>\n",
       "      <td>Uberlyfe Extra Large Vinyl Sticker</td>\n",
       "      <td>uberlyfe extra large vinyl sticker pack price ...</td>\n",
       "      <td>[1.0000000515865854]</td>\n",
       "    </tr>\n",
       "  </tbody>\n",
       "</table>\n",
       "<p>19998 rows × 3 columns</p>\n",
       "</div>"
      ],
      "text/plain": [
       "                                            product_name  \\\n",
       "0                    Alisha Solid Women's Cycling Shorts   \n",
       "1                    FabHomeDecor Fabric Double Sofa Bed   \n",
       "2                                             AW Bellies   \n",
       "3                    Alisha Solid Women's Cycling Shorts   \n",
       "4                  Sicons All Purpose Arnica Dog Shampoo   \n",
       "5      Eternal Gandhi Super Series Crystal Paper Weig...   \n",
       "6                    Alisha Solid Women's Cycling Shorts   \n",
       "7                    FabHomeDecor Fabric Double Sofa Bed   \n",
       "8      dilli bazaaar Bellies, Corporate Casuals, Casuals   \n",
       "9                    Alisha Solid Women's Cycling Shorts   \n",
       "10                                        Ladela Bellies   \n",
       "11                                Carrel Printed Women's   \n",
       "12               Sicons All Purpose Tea Tree Dog Shampoo   \n",
       "13                   Alisha Solid Women's Cycling Shorts   \n",
       "14                Freelance Vacuum Bottles 350 ml Bottle   \n",
       "15                   Alisha Solid Women's Cycling Shorts   \n",
       "16                   FabHomeDecor Fabric Double Sofa Bed   \n",
       "17                                    Style Foot Bellies   \n",
       "18                                Carrel Printed Women's   \n",
       "19                   FabHomeDecor Fabric Double Sofa Bed   \n",
       "20            Sicons Conditioning Conditoner Dog Shampoo   \n",
       "21                   Alisha Solid Women's Cycling Shorts   \n",
       "22               dongli Printed Boy's Round Neck T-Shirt   \n",
       "23                                    SWAGGA Women Clogs   \n",
       "24     Kennel Rubber Dumbell With Bell - Small Rubber...   \n",
       "25                             Glus Wedding Lingerie Set   \n",
       "26     Veelys Shiny White Quad Roller Skates - Size 4...   \n",
       "27              Bulaky vanity case Jewellery Vanity Case   \n",
       "28                                  FDT Women's Leggings   \n",
       "29                          Madcaps C38GR30 Men's Cargos   \n",
       "...                                                  ...   \n",
       "19968      Wallmantra Extra Large Vinyl Stickers Sticker   \n",
       "19969            Elite Collection Medium Acrylic Sticker   \n",
       "19970            Elite Collection Medium Acrylic Sticker   \n",
       "19971            Elite Collection Medium Acrylic Sticker   \n",
       "19972            Wallmantra Large Vinyl Stickers Sticker   \n",
       "19973  Uberlyfe Extra Large Pigmented Polyvinyl Films...   \n",
       "19974                                La Isla Women Heels   \n",
       "19975            Wallmantra Medium Vinyl Sticker Sticker   \n",
       "19976                        Fun To See Reusable Sticker   \n",
       "19977      Wallmantra Extra Large Vinyl Stickers Sticker   \n",
       "19978                  Sindhi Footwear Ballerina Bellies   \n",
       "19979                     WallDesign Small Vinyl Sticker   \n",
       "19980            Wallmantra Small Vinyl Stickers Sticker   \n",
       "19981             Wallmantra Large Vinyl Sticker Sticker   \n",
       "19982            Wallmantra Large Vinyl Stickers Sticker   \n",
       "19983                                 Purple Women Heels   \n",
       "19984            Elite Collection Medium Acrylic Sticker   \n",
       "19985      Wallmantra Extra Large Vinyl Stickers Sticker   \n",
       "19986                              Pinq Chiq Women Heels   \n",
       "19987                       Uberlyfe Large Vinyl Sticker   \n",
       "19988      Wallmantra Extra Large Vinyl Stickers Sticker   \n",
       "19989                                La Isla Women Heels   \n",
       "19990             Wallmantra Large Vinyl Sticker Sticker   \n",
       "19991                 We Witches Comfy Hues Women Wedges   \n",
       "19992                              Stylistry Women Heels   \n",
       "19993            Wallmantra Large Vinyl Stickers Sticker   \n",
       "19994      Wallmantra Extra Large Vinyl Stickers Sticker   \n",
       "19995      Wallmantra Extra Large Vinyl Stickers Sticker   \n",
       "19996      Wallmantra Extra Large Vinyl Stickers Sticker   \n",
       "19997                 Uberlyfe Extra Large Vinyl Sticker   \n",
       "\n",
       "                                             description                 score  \n",
       "0      key features alisha solid women cycling shorts...  [1.0000000515865854]  \n",
       "1      fabhomedecor fabric double sofa bed finish col...  [1.0000000515865854]  \n",
       "2      key features aw bellies sandals wedges heel ca...  [1.0000000515865854]  \n",
       "3      key features alisha solid women cycling shorts...  [1.0000000515865854]  \n",
       "4      specifications sicons purpose arnica dog shamp...                 [nan]  \n",
       "5      key features eternal gandhi super series cryst...  [1.0000000515865854]  \n",
       "6      key features alisha solid women cycling shorts...  [1.0000000515865854]  \n",
       "7      fabhomedecor fabric double sofa bed finish col...  [1.0000000515865854]  \n",
       "8      key features dilli bazaaar bellies corporate c...  [1.0000000515865854]  \n",
       "9      key features alisha solid women cycling shorts...  [1.0000000515865854]  \n",
       "10     key features ladela bellies brand ladela color...  [1.0000000515865854]  \n",
       "11     key features carrel printed women fabric swiml...  [1.0000000515865854]  \n",
       "12     specifications sicons purpose tea tree dog sha...                 [nan]  \n",
       "13     key features alisha solid women cycling shorts...  [1.0000000515865854]  \n",
       "14     specifications freelance vacuum bottles 350 ml...                 [nan]  \n",
       "15     key features alisha solid women cycling shorts...  [1.0000000515865854]  \n",
       "16     fabhomedecor fabric double sofa bed finish col...  [1.0000000515865854]  \n",
       "17     key features style foot bellies ballerina shoe...  [1.0000000515865854]  \n",
       "18     key features carrel printed women fabric swiml...  [1.0000000515865854]  \n",
       "19     fabhomedecor fabric double sofa bed finish col...  [1.0000000515865854]  \n",
       "20     specifications sicons conditioning conditoner ...                 [nan]  \n",
       "21     alisha solid women cycling shorts buy black wh...                 [nan]  \n",
       "22     specifications dongli printed boy round neck s...                 [nan]  \n",
       "23     key features swagga women clogs occasion ethni...  [1.0000000515865854]  \n",
       "24     buy kennel rubber dumbell bell small rubber ru...  [1.0000000515865854]  \n",
       "25     glus wedding lingerie set buy turquoise glus w...  [1.0000000515865854]  \n",
       "26     veelys shiny white quad roller skates size uk ...  [1.0000000515865854]  \n",
       "27     buy bulaky vanity case jewellery vanity case r...  [1.0000000515865854]  \n",
       "28     fdt women leggings buy parrot green fdt women ...  [1.0000000515865854]  \n",
       "29     madcaps c38gr30 men cargos buy green madcaps c...                 [nan]  \n",
       "...                                                  ...                   ...  \n",
       "19968  buy wallmantra extra large vinyl stickers stic...  [1.0000000515865854]  \n",
       "19969  buy elite collection medium acrylic sticker rs...  [1.0000000515865854]  \n",
       "19970  buy elite collection medium acrylic sticker rs...  [1.0000000515865854]  \n",
       "19971  buy elite collection medium acrylic sticker rs...  [1.0000000515865854]  \n",
       "19972  wallmantra large vinyl stickers sticker pack p...  [1.0000000515865854]  \n",
       "19973  buy uberlyfe extra large pigmented polyvinyl f...  [1.0000000515865854]  \n",
       "19974  flipkart com buy la isla women heels rs 569 fl...  [1.0000000515865854]  \n",
       "19975  buy wallmantra medium vinyl sticker sticker rs...  [1.0000000515865854]  \n",
       "19976  buy fun see reusable sticker rs 1099 online fu...  [1.0000000515865854]  \n",
       "19977  buy wallmantra extra large vinyl stickers stic...  [1.0000000515865854]  \n",
       "19978  sindhi footwear ballerina bellies buy sindhi f...                 [nan]  \n",
       "19979  buy walldesign small vinyl sticker rs 630 onli...  [1.0000000515865854]  \n",
       "19980  buy wallmantra small vinyl stickers sticker rs...  [1.0000000515865854]  \n",
       "19981  wallmantra large vinyl sticker sticker pack pr...  [1.0000000515865854]  \n",
       "19982  wallmantra large vinyl stickers sticker pack p...  [1.0000000515865854]  \n",
       "19983  flipkart com buy purple women heels rs 899 fli...  [1.0000000515865854]  \n",
       "19984  buy elite collection medium acrylic sticker rs...  [1.0000000515865854]  \n",
       "19985  buy wallmantra extra large vinyl stickers stic...  [1.0000000515865854]  \n",
       "19986  flipkart com buy pinq chiq women heels rs 769 ...  [1.0000000515865854]  \n",
       "19987  buy uberlyfe large vinyl sticker rs 595 online...  [1.0000000515865854]  \n",
       "19988  buy wallmantra extra large vinyl stickers stic...  [1.0000000515865854]  \n",
       "19989  flipkart com buy la isla women heels rs 779 fl...  [1.0000000515865854]  \n",
       "19990  wallmantra large vinyl sticker sticker pack pr...  [1.0000000515865854]  \n",
       "19991  flipkart com buy witches comfy hues women wedg...  [1.0000000515865854]  \n",
       "19992  flipkart com buy stylistry women heels rs 499 ...  [1.0000000515865854]  \n",
       "19993  buy wallmantra large vinyl stickers sticker rs...  [1.0000000515865854]  \n",
       "19994  buy wallmantra extra large vinyl stickers stic...  [1.0000000515865854]  \n",
       "19995  buy wallmantra extra large vinyl stickers stic...  [1.0000000515865854]  \n",
       "19996  buy wallmantra extra large vinyl stickers stic...  [1.0000000515865854]  \n",
       "19997  uberlyfe extra large vinyl sticker pack price ...  [1.0000000515865854]  \n",
       "\n",
       "[19998 rows x 3 columns]"
      ]
     },
     "execution_count": 77,
     "metadata": {},
     "output_type": "execute_result"
    }
   ],
   "source": [
    "# Call the IR function with a query\n",
    "query=input(\"What would you like to search\")\n",
    "Ranked_documents(query)"
   ]
  }
 ],
 "metadata": {
  "anaconda-cloud": {},
  "kernelspec": {
   "display_name": "Python 3 (ipykernel)",
   "language": "python",
   "name": "python3"
  },
  "language_info": {
   "codemirror_mode": {
    "name": "ipython",
    "version": 3
   },
   "file_extension": ".py",
   "mimetype": "text/x-python",
   "name": "python",
   "nbconvert_exporter": "python",
   "pygments_lexer": "ipython3",
   "version": "3.11.5"
  }
 },
 "nbformat": 4,
 "nbformat_minor": 2
}
